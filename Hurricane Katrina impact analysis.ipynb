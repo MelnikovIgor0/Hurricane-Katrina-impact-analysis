{
 "cells": [
  {
   "cell_type": "markdown",
   "id": "35752781",
   "metadata": {},
   "source": [
    "> Для решения задачи использовались открытые данные от Microsoft о зданиях на территории США: https://github.com/microsoft/USBuildingFootprints\n",
    "\n",
    "> Файл с границами штатов США https://drive.google.com/file/d/19NAAG4H5odnNz1EAuVMbv1eW6g90i1ti/view?usp=sharing\n",
    "\n",
    "> Файлы с остальными данными для анализа:\n",
    "\n",
    "> Датасет с зданиями в штате Алабама: https://drive.google.com/file/d/1m2x0EUiJJ6EGggSO3pITvXb1WGcIIGEk/view?usp=sharing\n",
    "\n",
    "> Датасет с зданиями в штате Луизиана: https://drive.google.com/file/d/14UQckX7YtQa4ZnwNZseooNwTy4dEjrON/view?usp=sharing\n",
    "\n",
    "> Датасет с зданиями в штате Миссисиппи: https://drive.google.com/file/d/1P4SRyudpzK__IbtOEbO4IEoP0NmJ4w-K/view?usp=sharing\n",
    "\n",
    "> Датасет с зданиями в штате Флорида: https://drive.google.com/file/d/1V-D3sXOv0fP7UrIBEPahXCkpVAYWwyaF/view?usp=sharing\n",
    "\n",
    "> Ураган Катрина: https://drive.google.com/file/d/1yGk0aH9OfXz6mA2fjqDq8Txj8EOjV4U6/view?usp=sharing\n",
    "\n",
    "> Я не прикрепил их в архив, потому что тогда вес архива был бы больше 2 ГБ и он не загрузился бы в ЛМС. В архиве только результаты работы блокнота (большие здания; штаты, по которым прошелся ураган; информация по общему количеству и общей площади зданий, попавших в область урагана/тропического шторма).\n",
    "\n",
    "> PS: возможно я смогу уместить какую-то часть необходимых данных в архив.\n",
    "\n",
    "> Я выполнял задание на 10."
   ]
  },
  {
   "cell_type": "markdown",
   "id": "ae47153b",
   "metadata": {},
   "source": [
    "> Для начала определю, над какими штатами прошел ураган и/или тропический шторм."
   ]
  },
  {
   "cell_type": "code",
   "execution_count": 106,
   "id": "1dd93dc0",
   "metadata": {},
   "outputs": [],
   "source": [
    "import geojson\n",
    "import json\n",
    "import numpy as np\n",
    "import pandas as pd\n",
    "from shapely.geometry import Polygon, LineString, Point\n",
    "import matplotlib.pyplot as plt\n",
    "from shapely.geometry import Polygon"
   ]
  },
  {
   "cell_type": "code",
   "execution_count": 107,
   "id": "13a7d2e1",
   "metadata": {},
   "outputs": [
    {
     "name": "stdout",
     "output_type": "stream",
     "text": [
      "F:\\HSE files\\files\\GIS Data\\buildings(USA)\n"
     ]
    }
   ],
   "source": [
    "%cd F:\\HSE files\\files\\GIS Data\\buildings(USA)"
   ]
  },
  {
   "cell_type": "code",
   "execution_count": 108,
   "id": "aeb4a690",
   "metadata": {},
   "outputs": [],
   "source": [
    "with open('katrina.json') as f:\n",
    "    KatrinaArea = geojson.load(f)"
   ]
  },
  {
   "cell_type": "code",
   "execution_count": 109,
   "id": "349ef78b",
   "metadata": {},
   "outputs": [],
   "source": [
    "with open('us-state-boundaries.geojson') as f:\n",
    "    StatesBoundaries = geojson.load(f)"
   ]
  },
  {
   "cell_type": "code",
   "execution_count": 110,
   "id": "75a57252",
   "metadata": {},
   "outputs": [],
   "source": [
    "Katrina1 = Polygon(KatrinaArea['features'][0]['geometry']['coordinates'][0][0])\n",
    "Katrina2 = Polygon(KatrinaArea['features'][1]['geometry']['coordinates'][0][0])\n",
    "damaged_area = {}\n",
    "for i in range(len(StatesBoundaries['features'])):\n",
    "    intersect = False\n",
    "    dim = -1\n",
    "    try:\n",
    "        w = StatesBoundaries[i]['geometry']['coordinates'][0][0][0][0]\n",
    "        dim = 4\n",
    "    except:\n",
    "        try:\n",
    "            w = StatesBoundaries[i]['geometry']['coordinates'][0][0][0]\n",
    "            dim = 3\n",
    "        except:\n",
    "            try:\n",
    "                w = tatesBoundaries[i]['geometry']['coordinates'][0][0]\n",
    "                dim = 2\n",
    "            except:\n",
    "                StatesBoundaries[i]['geometry']['coordinates'][0]\n",
    "                dim = 1\n",
    "    if dim == 3:\n",
    "        for j in StatesBoundaries[i]['geometry']['coordinates']:\n",
    "            if Katrina1.intersects(Polygon(j)) or Katrina2.intersects(Polygon(j)):\n",
    "                intersect = True\n",
    "                break\n",
    "    elif dim == 4:\n",
    "        for j in StatesBoundaries[i]['geometry']['coordinates']:\n",
    "            for k in j:\n",
    "                if Katrina1.intersects(Polygon(k)) or Katrina2.intersects(Polygon(k)):\n",
    "                    intersect = True\n",
    "                    break\n",
    "            if intersect:\n",
    "                break\n",
    "    if intersect:\n",
    "        intersection_area1 = 0\n",
    "        intersection_area2 = 0\n",
    "        if dim == 3:\n",
    "            for j in StatesBoundaries[i]['geometry']['coordinates']:\n",
    "                if Katrina1.intersects(Polygon(j)):\n",
    "                    intersection_area1 += Katrina1.intersection(Polygon(j)).area\n",
    "            for j in StatesBoundaries[i]['geometry']['coordinates']:\n",
    "                if Katrina2.intersects(Polygon(j)):\n",
    "                    intersection_area2 += Katrina2.intersection(Polygon(j)).area\n",
    "        elif dim == 4:\n",
    "            for j in StatesBoundaries[i]['geometry']['coordinates']:\n",
    "                for k in j:\n",
    "                    if Katrina1.intersects(Polygon(k)):\n",
    "                        intersection_area1 += Katrina1.intersection(Polygon(k)).area\n",
    "            for j in StatesBoundaries[i]['geometry']['coordinates']:\n",
    "                for k in j:\n",
    "                    if Katrina2.intersects(Polygon(k)):\n",
    "                        intersection_area2 += Katrina2.intersection(Polygon(k)).area\n",
    "        damaged_area.update({StatesBoundaries['features'][i]['properties']['name'] : \n",
    "                             {'storm' : intersection_area1, 'hurricane' : intersection_area2}})"
   ]
  },
  {
   "cell_type": "code",
   "execution_count": 111,
   "id": "926d7711",
   "metadata": {},
   "outputs": [
    {
     "name": "stdout",
     "output_type": "stream",
     "text": [
      "Пострадавшие от урагана штаты:\n",
      "Штат: Louisiana; территория тропического шторма: 4.418130654875316; территория урагана: 2.142872711351729\n",
      "Штат: Alabama; территория тропического шторма: 3.9348658573036706; территория урагана: 0.08205764116608322\n",
      "Штат: Florida; территория тропического шторма: 3.057411891035985; территория урагана: 0.12539217224094218\n",
      "Штат: Mississippi; территория тропического шторма: 8.246085234800423; территория урагана: 2.4824307232567593\n"
     ]
    }
   ],
   "source": [
    "print('Пострадавшие от урагана штаты:')\n",
    "for key in damaged_area:\n",
    "    print(f\"Штат: {key}; территория тропического шторма: {damaged_area[key]['storm']}; территория урагана: {damaged_area[key]['hurricane']}\")"
   ]
  },
  {
   "cell_type": "code",
   "execution_count": 112,
   "id": "2f2f7859",
   "metadata": {},
   "outputs": [],
   "source": [
    "with open('damaged_states.json', 'w') as fp:\n",
    "    json.dump(damaged_area, fp)"
   ]
  },
  {
   "cell_type": "code",
   "execution_count": 113,
   "id": "5cabe97e",
   "metadata": {},
   "outputs": [
    {
     "data": {
      "image/png": "[encoded data removed]",
      "text/plain": [
       "<Figure size 720x720 with 2 Axes>"
      ]
     },
     "metadata": {},
     "output_type": "display_data"
    }
   ],
   "source": [
    "plt.figure(figsize=(10, 10))\n",
    "plt.subplot(2, 1, 1)\n",
    "plt.pie([damaged_area[key]['storm'] for key in ['Louisiana', 'Alabama', 'Florida', 'Mississippi']],\n",
    "       labels=['Louisiana', 'Alabama', 'Florida', 'Mississippi'])\n",
    "plt.title('Отношение площадей территорий, по которым прошелся тропический шторм')\n",
    "plt.subplot(2, 1, 2)\n",
    "plt.pie([damaged_area[key]['hurricane'] for key in ['Louisiana', 'Alabama', 'Florida', 'Mississippi']],\n",
    "       labels=['Louisiana', 'Alabama', 'Florida', 'Mississippi'])\n",
    "plt.title('Отношение площадей территорий, по которым прошелся ураган')\n",
    "plt.show()"
   ]
  },
  {
   "cell_type": "markdown",
   "id": "274b290a",
   "metadata": {},
   "source": [
    "> Теперь для каждого из приведенных здесь штатов проведу анализ последствий урагана"
   ]
  },
  {
   "cell_type": "code",
   "execution_count": 114,
   "id": "43d3c9b9",
   "metadata": {},
   "outputs": [],
   "source": [
    "def GetAmountAndAreaOfCoveredBuildings(hurricane_weak, hurricane_strong, buildings):\n",
    "    kol_weak = 0\n",
    "    total_area_weak = 0\n",
    "    kol_strong = 0\n",
    "    total_area_strong = 0\n",
    "    for i in range(len(buildings)):\n",
    "        building = Polygon(buildings[i]['geometry']['coordinates'][0])\n",
    "        if hurricane_strong.intersects(building):\n",
    "            kol_strong += 1\n",
    "            total_area_strong += building.area\n",
    "        elif hurricane_weak.intersects(building):\n",
    "            kol_weak += 1\n",
    "            total_area_weak += building.area\n",
    "    return ((kol_weak, total_area_weak), (kol_strong, total_area_strong))"
   ]
  },
  {
   "cell_type": "code",
   "execution_count": 115,
   "id": "a6c4d194",
   "metadata": {},
   "outputs": [],
   "source": [
    "def GetBigBuildings(hurricane_strong, buildings, boundary):\n",
    "    big_buildings = []\n",
    "    for i in range(len(buildings)):\n",
    "        building = Polygon(buildings[i]['geometry']['coordinates'][0])\n",
    "        if hurricane_strong.intersects(building) and building.area >= boundary:\n",
    "            big_buildings.append(buildings[i])\n",
    "    return big_buildings"
   ]
  },
  {
   "cell_type": "code",
   "execution_count": 116,
   "id": "91578d15",
   "metadata": {},
   "outputs": [],
   "source": [
    "def PrintInfo(state_name, value, total_amount):\n",
    "    print('Информация по штату: ' + state_name)\n",
    "    print('Число зданий, попавших в зону тропического шторма: ' + str(value[0][0]))\n",
    "    print('Суммарная площадь зданий, попавших в зону тропического шторма: ' + str(value[0][1]))\n",
    "    print('Число зданий, попавших в зону урагана: ' + str(value[1][0]))\n",
    "    print('Суммарная площадь зданий, попавших в зону урагана: ' + str(value[1][1]))\n",
    "    print('Доля зданий (от количества всех зданий в штате), которые были затронуты ураганом или тропическим штормом: ' + \n",
    "          str((value[0][0] + value[0][1] + value[1][0] + value[1][1]) / total_amount * 100) + '%')"
   ]
  },
  {
   "cell_type": "code",
   "execution_count": 117,
   "id": "b75ab358",
   "metadata": {},
   "outputs": [],
   "source": [
    "def SaveData(file_name, data):\n",
    "    with open(file_name, 'w') as f:\n",
    "        f.write(str(data[0][0]) + ' ')\n",
    "        f.write(str(data[0][1]) + ' ')\n",
    "        f.write(str(data[1][0]) + ' ')\n",
    "        f.write(str(data[1][1]) + ' ')\n",
    "        f.close()"
   ]
  },
  {
   "cell_type": "code",
   "execution_count": 118,
   "id": "4fbee112",
   "metadata": {},
   "outputs": [],
   "source": [
    "def LoadData(file_name):\n",
    "    with open(file_name) as f:\n",
    "        data_durty = f.readline().split(' ')\n",
    "        return ((int(data_durty[0]), float(data_durty[1])), (int(data_durty[2]), float(data_durty[3])))"
   ]
  },
  {
   "cell_type": "markdown",
   "id": "f96d68a2",
   "metadata": {},
   "source": [
    "> Штат Алабама"
   ]
  },
  {
   "cell_type": "code",
   "execution_count": 30,
   "id": "0dc6d4f9",
   "metadata": {},
   "outputs": [],
   "source": [
    "with open('Alabama.geojson') as f:\n",
    "    AlabamaBuildings = geojson.load(f)"
   ]
  },
  {
   "cell_type": "code",
   "execution_count": 47,
   "id": "c761247f",
   "metadata": {},
   "outputs": [],
   "source": [
    "AlabamaBigBuildings = GetBigBuildings(Polygon(KatrinaArea['features'][1]['geometry']['coordinates'][0][0]), \n",
    "                AlabamaBuildings['features'], 1.0e-07)"
   ]
  },
  {
   "cell_type": "code",
   "execution_count": 54,
   "id": "cf68a61b",
   "metadata": {},
   "outputs": [],
   "source": [
    "with open('AlabamaBigBuildings.geojson', 'w') as fp:\n",
    "    geojson.dump({\"type\": \"FeatureCollection\", \"features\" : AlabamaBigBuildings}, fp)"
   ]
  },
  {
   "cell_type": "code",
   "execution_count": 55,
   "id": "770c56ee",
   "metadata": {},
   "outputs": [],
   "source": [
    "AlabamaData = GetAmountAndAreaOfCoveredBuildings(Polygon(KatrinaArea['features'][0]['geometry']['coordinates'][0][0]), \n",
    "                                         Polygon(KatrinaArea['features'][1]['geometry']['coordinates'][0][0]),\n",
    "                                         AlabamaBuildings['features'])"
   ]
  },
  {
   "cell_type": "code",
   "execution_count": 56,
   "id": "f26f2574",
   "metadata": {},
   "outputs": [],
   "source": [
    "SaveData('AlabamaData.txt', AlabamaData)"
   ]
  },
  {
   "cell_type": "code",
   "execution_count": 57,
   "id": "47b70f8e",
   "metadata": {},
   "outputs": [
    {
     "name": "stdout",
     "output_type": "stream",
     "text": [
      "Информация по штату: Алабама\n",
      "Число зданий, попавших в зону тропического шторма: 429412\n",
      "Суммарная площадь зданий, попавших в зону тропического шторма: 0.010523017541000407\n",
      "Число зданий, попавших в зону урагана: 11125\n",
      "Суммарная площадь зданий, попавших в зону урагана: 0.0002223263115000468\n",
      "Доля зданий (от количества всех зданий в штате), которые были затронуты ураганом или тропическим штормом: 17.9432532008133%\n"
     ]
    }
   ],
   "source": [
    "PrintInfo('Алабама', AlabamaData, len(AlabamaBuildings['features']))"
   ]
  },
  {
   "cell_type": "code",
   "execution_count": 58,
   "id": "9cb62f3b",
   "metadata": {},
   "outputs": [
    {
     "name": "stdout",
     "output_type": "stream",
     "text": [
      "Once deleted, variables cannot be recovered. Proceed (y/[n])? y\n"
     ]
    }
   ],
   "source": [
    "%reset"
   ]
  },
  {
   "cell_type": "markdown",
   "id": "462b6912",
   "metadata": {},
   "source": [
    "> Строчку с reset выполнять жизненно необходимо, так как иначе закончится ОЗУ :(\n",
    "\n",
    "> Теперь нужно запустить все блоки до Алабамы, пропустить Алабаму и выполнить блок для того штата, для которого это нужно. После выполнения операций для обработки какого-то шатата нужно запустить %reset и при необходимости приступить к следующему штату"
   ]
  },
  {
   "cell_type": "markdown",
   "id": "f93fa146",
   "metadata": {},
   "source": [
    "> Штат Луизиана"
   ]
  },
  {
   "cell_type": "code",
   "execution_count": 73,
   "id": "3685bc38",
   "metadata": {},
   "outputs": [],
   "source": [
    "with open('Louisiana.geojson') as f:\n",
    "    LouisianaBuildings = geojson.load(f)"
   ]
  },
  {
   "cell_type": "code",
   "execution_count": 78,
   "id": "a0352b7c",
   "metadata": {},
   "outputs": [],
   "source": [
    "LouisianaBigBuildings = GetBigBuildings(Polygon(KatrinaArea['features'][1]['geometry']['coordinates'][0][0]), \n",
    "                LouisianaBuildings['features'], 8.0e-07)"
   ]
  },
  {
   "cell_type": "code",
   "execution_count": 80,
   "id": "c91e48c5",
   "metadata": {},
   "outputs": [],
   "source": [
    "with open('LouisianaBigBuildings.geojson', 'w') as fp:\n",
    "    geojson.dump({\"type\": \"FeatureCollection\", \"features\" : LouisianaBigBuildings}, fp)"
   ]
  },
  {
   "cell_type": "code",
   "execution_count": 81,
   "id": "110d9baf",
   "metadata": {},
   "outputs": [],
   "source": [
    "LouisianaData = GetAmountAndAreaOfCoveredBuildings(Polygon(KatrinaArea['features'][0]['geometry']['coordinates'][0][0]), \n",
    "                                         Polygon(KatrinaArea['features'][1]['geometry']['coordinates'][0][0]),\n",
    "                                         LouisianaBuildings['features'])"
   ]
  },
  {
   "cell_type": "code",
   "execution_count": 82,
   "id": "8f000165",
   "metadata": {},
   "outputs": [],
   "source": [
    "SaveData('LouisianaData.txt', LouisianaData)"
   ]
  },
  {
   "cell_type": "code",
   "execution_count": 83,
   "id": "613f5e32",
   "metadata": {},
   "outputs": [
    {
     "name": "stdout",
     "output_type": "stream",
     "text": [
      "Информация по штату: Луизиана\n",
      "Число зданий, попавших в зону тропического шторма: 602737\n",
      "Суммарная площадь зданий, попавших в зону тропического шторма: 0.015527869970501457\n",
      "Число зданий, попавших в зону урагана: 465358\n",
      "Суммарная площадь зданий, попавших в зону урагана: 0.0112914010595001\n",
      "Доля зданий (от количества всех зданий в штате), которые были затронуты ураганом или тропическим штормом: 49.14019336966705%\n"
     ]
    }
   ],
   "source": [
    "PrintInfo('Луизиана', LouisianaData, len(LouisianaBuildings['features']))"
   ]
  },
  {
   "cell_type": "code",
   "execution_count": 84,
   "id": "3170907f",
   "metadata": {},
   "outputs": [
    {
     "name": "stdout",
     "output_type": "stream",
     "text": [
      "Once deleted, variables cannot be recovered. Proceed (y/[n])? y\n"
     ]
    }
   ],
   "source": [
    "%reset"
   ]
  },
  {
   "cell_type": "markdown",
   "id": "5d9158c3",
   "metadata": {},
   "source": [
    "> Штат Миссисиппи"
   ]
  },
  {
   "cell_type": "code",
   "execution_count": 98,
   "id": "49b702a2",
   "metadata": {},
   "outputs": [],
   "source": [
    "with open('Mississippi.geojson') as f:\n",
    "    MississippiBuildings = geojson.load(f)"
   ]
  },
  {
   "cell_type": "code",
   "execution_count": 99,
   "id": "4b73fc14",
   "metadata": {},
   "outputs": [],
   "source": [
    "MississippiBigBuildings = GetBigBuildings(Polygon(KatrinaArea['features'][1]['geometry']['coordinates'][0][0]), \n",
    "                MississippiBuildings['features'], 8.0e-07)"
   ]
  },
  {
   "cell_type": "code",
   "execution_count": 101,
   "id": "ecc21235",
   "metadata": {},
   "outputs": [],
   "source": [
    "with open('MississippiBigBuildings.geojson', 'w') as fp:\n",
    "    geojson.dump({\"type\": \"FeatureCollection\", \"features\" : MississippiBigBuildings}, fp)"
   ]
  },
  {
   "cell_type": "code",
   "execution_count": 102,
   "id": "c5db0741",
   "metadata": {},
   "outputs": [],
   "source": [
    "MississippiData = GetAmountAndAreaOfCoveredBuildings(Polygon(KatrinaArea['features'][0]['geometry']['coordinates'][0][0]), \n",
    "                                         Polygon(KatrinaArea['features'][1]['geometry']['coordinates'][0][0]),\n",
    "                                         MississippiBuildings['features'])"
   ]
  },
  {
   "cell_type": "code",
   "execution_count": 103,
   "id": "fd51cc38",
   "metadata": {},
   "outputs": [],
   "source": [
    "SaveData('MississippiData.txt', MississippiData)"
   ]
  },
  {
   "cell_type": "code",
   "execution_count": 104,
   "id": "ad9fa339",
   "metadata": {},
   "outputs": [
    {
     "name": "stdout",
     "output_type": "stream",
     "text": [
      "Информация по штату: Миссисиппи\n",
      "Число зданий, попавших в зону тропического шторма: 696779\n",
      "Суммарная площадь зданий, попавших в зону тропического шторма: 0.018779562489499746\n",
      "Число зданий, попавших в зону урагана: 408099\n",
      "Суммарная площадь зданий, попавших в зону урагана: 0.010181960693999327\n",
      "Доля зданий (от количества всех зданий в штате), которые были затронуты ураганом или тропическим штормом: 73.29226936333649%\n"
     ]
    }
   ],
   "source": [
    "PrintInfo('Миссисиппи', MississippiData, len(MississippiBuildings['features']))"
   ]
  },
  {
   "cell_type": "code",
   "execution_count": 105,
   "id": "01b47d9c",
   "metadata": {},
   "outputs": [
    {
     "name": "stdout",
     "output_type": "stream",
     "text": [
      "Once deleted, variables cannot be recovered. Proceed (y/[n])? y\n"
     ]
    }
   ],
   "source": [
    "%reset"
   ]
  },
  {
   "cell_type": "markdown",
   "id": "7e1cb186",
   "metadata": {},
   "source": [
    "> На обработку штата Флорида у меня не хватает ОЗУ :("
   ]
  },
  {
   "cell_type": "markdown",
   "id": "5ec3721d",
   "metadata": {},
   "source": [
    "> Теперь немного визуализации"
   ]
  },
  {
   "cell_type": "code",
   "execution_count": 119,
   "id": "bcf94f31",
   "metadata": {},
   "outputs": [],
   "source": [
    "AlabamaData = LoadData('AlabamaData.txt')\n",
    "LouisianaData = LoadData('LouisianaData.txt')\n",
    "MississippiData = LoadData('MississippiData.txt')"
   ]
  },
  {
   "cell_type": "code",
   "execution_count": 120,
   "id": "7a7af8c3",
   "metadata": {},
   "outputs": [
    {
     "data": {
      "image/png": "[encoded data removed]",
      "text/plain": [
       "<Figure size 576x864 with 2 Axes>"
      ]
     },
     "metadata": {
      "needs_background": "light"
     },
     "output_type": "display_data"
    }
   ],
   "source": [
    "plt.figure(figsize=(8, 12))\n",
    "plt.subplot(2, 1, 1)\n",
    "plt.bar(['Алабама', 'Луизиана', 'Миссисиппи'], [i[0][0] for i in [AlabamaData, LouisianaData, MississippiData]],\n",
    "        color=['blue' for i in range(3)])\n",
    "plt.ylabel('число зданий, попавших в область тропического шторма')\n",
    "plt.xlabel('штат')\n",
    "plt.subplot(2, 1, 2)\n",
    "plt.bar(['Алабама', 'Луизиана', 'Миссисиппи'], [AlabamaData[0][0] / 2455168 * 100, LouisianaData[0][0] / 2173567 * 100, \n",
    "                                               MississippiData[0][0] / 1507496 * 100], color=['orange' for i in range(3)])\n",
    "plt.ylabel('доля зданий, попавших в область тропического шторма(%)')\n",
    "plt.xlabel('штат')\n",
    "plt.show()"
   ]
  },
  {
   "cell_type": "code",
   "execution_count": 121,
   "id": "4acf2f63",
   "metadata": {},
   "outputs": [
    {
     "data": {
      "image/png": "[encoded data removed]",
      "text/plain": [
       "<Figure size 576x864 with 2 Axes>"
      ]
     },
     "metadata": {
      "needs_background": "light"
     },
     "output_type": "display_data"
    }
   ],
   "source": [
    "plt.figure(figsize=(8, 12))\n",
    "plt.subplot(2, 1, 1)\n",
    "plt.bar(['Алабама', 'Луизиана', 'Миссисиппи'], [i[1][0] for i in [AlabamaData, LouisianaData, MississippiData]],\n",
    "        color=['blue' for i in range(3)])\n",
    "plt.ylabel('число зданий, попавших в область урагана')\n",
    "plt.xlabel('штат')\n",
    "plt.subplot(2, 1, 2)\n",
    "plt.bar(['Алабама', 'Луизиана', 'Миссисиппи'], [AlabamaData[1][0] / 2455168 * 100, LouisianaData[1][0] / 2173567 * 100, \n",
    "                                               MississippiData[1][0] / 1507496 * 100], color=['orange' for i in range(3)])\n",
    "plt.ylabel('доля зданий, попавших в область урагана(%)')\n",
    "plt.xlabel('штат')\n",
    "plt.show()"
   ]
  },
  {
   "cell_type": "code",
   "execution_count": 122,
   "id": "ed52d4f8",
   "metadata": {},
   "outputs": [
    {
     "data": {
      "image/png": "[encoded data removed]",
      "text/plain": [
       "<Figure size 576x432 with 1 Axes>"
      ]
     },
     "metadata": {
      "needs_background": "light"
     },
     "output_type": "display_data"
    }
   ],
   "source": [
    "plt.figure(figsize=(8, 6))\n",
    "plt.bar(['Алабама', 'Луизиана', 'Миссисиппи'], [i[0][1] for i in [AlabamaData, LouisianaData, MississippiData]],\n",
    "        color=['blue' for i in range(3)])\n",
    "plt.ylabel('площадь зданий, попавших в область тропического шторма')\n",
    "plt.xlabel('штат')\n",
    "plt.show()"
   ]
  },
  {
   "cell_type": "code",
   "execution_count": 123,
   "id": "bd833169",
   "metadata": {},
   "outputs": [
    {
     "data": {
      "image/png": "[encoded data removed]",
      "text/plain": [
       "<Figure size 576x432 with 1 Axes>"
      ]
     },
     "metadata": {
      "needs_background": "light"
     },
     "output_type": "display_data"
    }
   ],
   "source": [
    "plt.figure(figsize=(8, 6))\n",
    "plt.bar(['Алабама', 'Луизиана', 'Миссисиппи'], [i[1][1] for i in [AlabamaData, LouisianaData, MississippiData]],\n",
    "        color=['blue' for i in range(3)])\n",
    "plt.ylabel('площадь зданий, попавших в область урагана')\n",
    "plt.xlabel('штат')\n",
    "plt.show()"
   ]
  }
 ],
 "metadata": {
  "kernelspec": {
   "display_name": "venv2",
   "language": "python",
   "name": "venv2"
  },
  "language_info": {
   "codemirror_mode": {
    "name": "ipython",
    "version": 3
   },
   "file_extension": ".py",
   "mimetype": "text/x-python",
   "name": "python",
   "nbconvert_exporter": "python",
   "pygments_lexer": "ipython3",
   "version": "3.10.2"
  }
 },
 "nbformat": 4,
 "nbformat_minor": 5
}
